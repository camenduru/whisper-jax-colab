{
  "cells": [
    {
      "cell_type": "markdown",
      "metadata": {
        "id": "view-in-github"
      },
      "source": [
        "[![Open In Colab](https://colab.research.google.com/assets/colab-badge.svg)](https://colab.research.google.com/github/camenduru/whisper-jax-colab/blob/main/whisper_jax_medium_gradio_colab.ipynb)"
      ]
    },
    {
      "cell_type": "code",
      "execution_count": null,
      "metadata": {
        "id": "ngr4pZeHCM1C"
      },
      "outputs": [],
      "source": [
        "!pip install -q \"jax[cuda]\" -U\n",
        "!pip install -q git+https://github.com/camenduru/whisper-jax.git datasets soundfile librosa yt_dlp gradio\n",
        "\n",
        "import gradio as gr\n",
        "from yt_dlp import YoutubeDL\n",
        "import os\n",
        "import jax\n",
        "from whisper_jax import FlaxWhisperPipline\n",
        "import jax.numpy as jnp\n",
        "\n",
        "pipeline = FlaxWhisperPipline(\"openai/whisper-medium\", dtype=jnp.float16)\n",
        "from jax.experimental.compilation_cache import compilation_cache as cc\n",
        "cc.initialize_cache(\"/content/jax_cache\")\n",
        "    \n",
        "def download_video(url):\n",
        "  ydl_opts = {'overwrites':True, 'format':'bestaudio[ext=m4a]', 'outtmpl':'/content/audio.m4a'}\n",
        "  with YoutubeDL(ydl_opts) as ydl:\n",
        "    ydl.download(url)\n",
        "    return f\"/content/audio.m4a\"\n",
        "\n",
        "def transcribe(audio_in):\n",
        "    outputs = pipeline(\"/content/audio.m4a\", return_timestamps=True)\n",
        "    text = outputs[\"text\"]\n",
        "    chunks = outputs[\"chunks\"]\n",
        "    return text, chunks\n",
        "\n",
        "app = gr.Blocks()\n",
        "with app:\n",
        "  with gr.Row():\n",
        "    with gr.Column():\n",
        "      input_text = gr.Textbox(show_label=False, value=\"https://www.youtube.com/watch?v=SN2sak8Tp70\")\n",
        "      input_download_button = gr.Button(value=\"Download from YouTube or Twitch\")\n",
        "      input_transcribe_button = gr.Button(value=\"Transcribe\")\n",
        "    with gr.Column():\n",
        "        audio_out = gr.Audio(label=\"Output Audio\")\n",
        "        text_out = gr.Textbox(label=\"Output Text\")\n",
        "        chunks_out = gr.Textbox(label=\"Output Chunks\")\n",
        "    input_download_button.click(download_video, inputs=[input_text], outputs=[audio_out])\n",
        "    input_transcribe_button.click(transcribe, inputs=[audio_out], outputs=[text_out, chunks_out])\n",
        "  \n",
        "app.launch(debug=True)"
      ]
    }
  ],
  "metadata": {
    "accelerator": "GPU",
    "colab": {
      "provenance": []
    },
    "gpuClass": "standard",
    "kernelspec": {
      "display_name": "Python 3",
      "name": "python3"
    },
    "language_info": {
      "name": "python"
    }
  },
  "nbformat": 4,
  "nbformat_minor": 0
}
