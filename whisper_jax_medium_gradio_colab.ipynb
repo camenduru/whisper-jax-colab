{
  "cells": [
    {
      "cell_type": "markdown",
      "metadata": {
        "id": "view-in-github"
      },
      "source": [
        "[![Open In Colab](https://colab.research.google.com/assets/colab-badge.svg)](https://colab.research.google.com/github/camenduru/whisper-jax-colab/blob/main/whisper_jax_medium_gradio_colab.ipynb)"
      ]
    },
    {
      "cell_type": "code",
      "execution_count": null,
      "metadata": {
        "id": "ngr4pZeHCM1C"
      },
      "outputs": [],
      "source": [
        "!pip install -U \"jax[cuda11_local]==0.4.13\" \"jaxlib[cuda11_local]==0.4.13\" -f https://storage.googleapis.com/jax-releases/jax_cuda_releases.html\n",
        "!pip install -q git+https://github.com/camenduru/whisper-jax.git@dev datasets soundfile librosa yt_dlp gradio cached_property\n",
        "\n",
        "import gradio as gr\n",
        "from yt_dlp import YoutubeDL\n",
        "import os\n",
        "import jax\n",
        "from whisper_jax import FlaxWhisperPipline\n",
        "import jax.numpy as jnp\n",
        "\n",
        "pipeline = FlaxWhisperPipline(\"openai/whisper-medium\", dtype=jnp.float16)\n",
        "from jax.experimental.compilation_cache import compilation_cache as cc\n",
        "cc.initialize_cache(\"/content/jax_cache\")\n",
        "    \n",
        "def download_video(url):\n",
        "  ydl_opts = {'overwrites':True, 'format':'bestaudio[ext=m4a]', 'outtmpl':'/content/audio.m4a'}\n",
        "  with YoutubeDL(ydl_opts) as ydl:\n",
        "    ydl.download(url)\n",
        "    return f\"/content/audio.m4a\"\n",
        "\n",
        "# Copied from https://github.com/openai/whisper/blob/c09a7ae299c4c34c5839a76380ae407e7d785914/whisper/utils.py#L50\n",
        "def format_timestamp(seconds: float, always_include_hours: bool = False, decimal_marker: str = \".\"):\n",
        "    if seconds is not None:\n",
        "        milliseconds = round(seconds * 1000.0)\n",
        "        hours = milliseconds // 3_600_000\n",
        "        milliseconds -= hours * 3_600_000\n",
        "        minutes = milliseconds // 60_000\n",
        "        milliseconds -= minutes * 60_000\n",
        "        seconds = milliseconds // 1_000\n",
        "        milliseconds -= seconds * 1_000\n",
        "        hours_marker = f\"{hours:02d}:\" if always_include_hours or hours > 0 else \"\"\n",
        "        return f\"{hours_marker}{minutes:02d}:{seconds:02d}{decimal_marker}{milliseconds:03d}\"\n",
        "    else:\n",
        "        return seconds\n",
        "  \n",
        "def transcribe(audio_in):\n",
        "    outputs = pipeline(\"/content/audio.m4a\", return_timestamps=True)\n",
        "    text = outputs[\"text\"]\n",
        "    chunks = outputs[\"chunks\"]\n",
        "    output = \"\"\n",
        "    # https://huggingface.co/spaces/jeffistyping/Youtube-Whisperer/blob/main/app.py modifyed\n",
        "    for i, chunk in enumerate(chunks):\n",
        "      output += f\"{i+1}\\n\"\n",
        "      output += f\"{format_timestamp(chunk['timestamp'][0])} --> {format_timestamp(chunk['timestamp'][1])}\\n\"\n",
        "      output += f\"{chunk['text']}\\n\\n\"\n",
        "    return text, output\n",
        "\n",
        "app = gr.Blocks()\n",
        "with app:\n",
        "  with gr.Row():\n",
        "    with gr.Column():\n",
        "      input_text = gr.Textbox(show_label=False, value=\"https://www.youtube.com/watch?v=SN2sak8Tp70\")\n",
        "      input_download_button = gr.Button(value=\"Download from YouTube or Twitch\")\n",
        "      input_transcribe_button = gr.Button(value=\"Transcribe\")\n",
        "    with gr.Column():\n",
        "        audio_out = gr.Audio(label=\"Output Audio\")\n",
        "        text_out = gr.Textbox(label=\"Output Text\")\n",
        "        chunks_out = gr.Textbox(label=\"Output SRT\")\n",
        "    input_download_button.click(download_video, inputs=[input_text], outputs=[audio_out])\n",
        "    input_transcribe_button.click(transcribe, inputs=[audio_out], outputs=[text_out, chunks_out])\n",
        "  \n",
        "app.launch(debug=True)"
      ]
    }
  ],
  "metadata": {
    "accelerator": "GPU",
    "colab": {
      "provenance": []
    },
    "gpuClass": "standard",
    "kernelspec": {
      "display_name": "Python 3",
      "name": "python3"
    },
    "language_info": {
      "name": "python"
    }
  },
  "nbformat": 4,
  "nbformat_minor": 0
}
