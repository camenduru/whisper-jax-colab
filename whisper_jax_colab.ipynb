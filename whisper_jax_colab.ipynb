{
  "cells": [
    {
      "cell_type": "markdown",
      "metadata": {
        "id": "view-in-github"
      },
      "source": [
        "[![Open In Colab](https://colab.research.google.com/assets/colab-badge.svg)](https://colab.research.google.com/github/camenduru/whisper-jax-colab/blob/main/whisper_jax_colab.ipynb)"
      ]
    },
    {
      "cell_type": "code",
      "execution_count": null,
      "metadata": {
        "id": "ngr4pZeHCM1C"
      },
      "outputs": [],
      "source": [
        "!pip install -q \"jax[cuda]\" -U\n",
        "!pip install -q git+https://github.com/camenduru/whisper-jax.git datasets soundfile librosa\n",
        "\n",
        "import jax\n",
        "from whisper_jax import FlaxWhisperPipline\n",
        "import jax.numpy as jnp\n",
        "\n",
        "pipeline = FlaxWhisperPipline(\"openai/whisper-large-v2\", dtype=jnp.float16)\n",
        "from jax.experimental.compilation_cache import compilation_cache as cc\n",
        "cc.initialize_cache(\"/content/jax_cache\")\n",
        "\n",
        "from datasets import load_dataset\n",
        "test_dataset = load_dataset(\"sanchit-gandhi/whisper-jax-test-files\", split=\"train\")\n",
        "audio = test_dataset[0][\"audio\"]\n",
        "# from IPython.display import Audio\n",
        "# Audio(audio[\"array\"], rate=audio[\"sampling_rate\"])"
      ]
    },
    {
      "cell_type": "code",
      "execution_count": null,
      "metadata": {},
      "outputs": [],
      "source": [
        "%time outputs = pipeline(audio, return_timestamps=True)\n",
        "text = outputs[\"text\"]  # transcription\n",
        "chunks = outputs[\"chunks\"]  # transcription + timestamps"
      ]
    }
  ],
  "metadata": {
    "accelerator": "GPU",
    "colab": {
      "provenance": [],
      "machine_shape": "hm"
    },
    "gpuClass": "standard",
    "kernelspec": {
      "display_name": "Python 3",
      "name": "python3"
    },
    "language_info": {
      "name": "python"
    }
  },
  "nbformat": 4,
  "nbformat_minor": 0
}
