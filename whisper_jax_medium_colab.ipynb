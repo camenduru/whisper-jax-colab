{
  "cells": [
    {
      "cell_type": "markdown",
      "metadata": {
        "id": "view-in-github"
      },
      "source": [
        "[![Open In Colab](https://colab.research.google.com/assets/colab-badge.svg)](https://colab.research.google.com/github/camenduru/whisper-jax-colab/blob/main/whisper_jax_medium_colab.ipynb)"
      ]
    },
    {
      "cell_type": "code",
      "execution_count": null,
      "metadata": {
        "id": "ngr4pZeHCM1C"
      },
      "outputs": [],
      "source": [
        "# https://github.com/sanchit-gandhi/whisper-jax/blob/main/README.md modified\n",
        "\n",
        "!pip install -q \"jax[cuda]\" -U\n",
        "!pip install -q git+https://github.com/camenduru/whisper-jax.git datasets soundfile librosa yt_dlp\n",
        "\n",
        "import jax\n",
        "from whisper_jax import FlaxWhisperPipline\n",
        "import jax.numpy as jnp\n",
        "\n",
        "pipeline = FlaxWhisperPipline(\"openai/whisper-medium\", dtype=jnp.float16)\n",
        "from jax.experimental.compilation_cache import compilation_cache as cc\n",
        "cc.initialize_cache(\"/content/jax_cache\")"
      ]
    },
    {
      "cell_type": "code",
      "execution_count": null,
      "metadata": {},
      "outputs": [],
      "source": [
        "from yt_dlp import YoutubeDL\n",
        "with YoutubeDL({'overwrites':True, 'format':'bestaudio[ext=m4a]', 'outtmpl':'/content/audio.m4a'}) as ydl:\n",
        "    ydl.download(\"https://youtu.be/LXEAkeh7OTE\")"
      ]
    },
    {
      "cell_type": "code",
      "execution_count": null,
      "metadata": {},
      "outputs": [],
      "source": [
        "outputs = pipeline(\"/content/audio.m4a\")\n",
        "text = outputs[\"text\"]\n",
        "\n",
        "print(text)"
      ]
    }
  ],
  "metadata": {
    "accelerator": "GPU",
    "colab": {
      "provenance": []
    },
    "gpuClass": "standard",
    "kernelspec": {
      "display_name": "Python 3",
      "name": "python3"
    },
    "language_info": {
      "name": "python"
    }
  },
  "nbformat": 4,
  "nbformat_minor": 0
}
